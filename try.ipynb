{
 "cells": [
  {
   "cell_type": "code",
   "execution_count": 6,
   "metadata": {},
   "outputs": [
    {
     "name": "stdout",
     "output_type": "stream",
     "text": [
      "Creating the instance\n",
      "Initializing the instance\n",
      "Instance already initialized\n",
      "Singleton1 is singleton2: True\n",
      "ID of singleton1: 140648641047120\n",
      "ID of singleton2: 140648641047120\n"
     ]
    }
   ],
   "source": [
    "\"\"\"  \n",
    "Here we test the Singleton pattern in Python that restricts the instantiation of a class to one single instance\n",
    "\"\"\"\n",
    "\n",
    "class Singleton:\n",
    "    _instance = None  # Class attribute to store the singleton instance\n",
    "    _is_initialized = False  # Class attribute to store the initialization state\n",
    "    def __new__(cls):\n",
    "        if cls._instance is None:\n",
    "            print(\"Creating the instance\")\n",
    "            cls._instance = super(Singleton, cls).__new__(cls)\n",
    "        return cls._instance\n",
    "\n",
    "    def __init__(self):\n",
    "        if self._is_initialized:\n",
    "            print(\"Instance already initialized\")\n",
    "            return\n",
    "        # Initialization method might be called multiple times\n",
    "        # when attempting to create more instances\n",
    "        print(\"Initializing the instance\")\n",
    "        self._is_initialized = True\n",
    "\n",
    "# Usage of the Singleton class\n",
    "singleton1 = Singleton()\n",
    "singleton2 = Singleton()\n",
    "\n",
    "# Check if both variables point to the same instance\n",
    "print(\"Singleton1 is singleton2:\", singleton1 is singleton2)\n",
    "\n",
    "# Output additional instance properties or states to show it's the same instance\n",
    "print(\"ID of singleton1:\", id(singleton1))\n",
    "print(\"ID of singleton2:\", id(singleton2))\n",
    "\n",
    "# self._is_initialized is True for singleton2 too because it's the same/only instance"
   ]
  },
  {
   "cell_type": "code",
   "execution_count": 1,
   "metadata": {},
   "outputs": [
    {
     "name": "stdout",
     "output_type": "stream",
     "text": [
      "<__main__.myclass object at 0x7feb626a9030>\n",
      "0\n"
     ]
    }
   ],
   "source": [
    "\"\"\"  \n",
    "Here we test the input type of defaultdict, it should be a callable object/function\n",
    "\"\"\"\n",
    "\n",
    "from collections import defaultdict\n",
    "\n",
    "class myclass:\n",
    "    __slots__ = ['a', 'b']\n",
    "    def __init__(self):\n",
    "        self.a = 1\n",
    "        self.b = 2\n",
    "        # self.c = 3 it will raise an error because c is not in __slots__\n",
    "    def __getitem__(self, key):\n",
    "        return getattr(self, key)\n",
    "\n",
    "a=defaultdict(myclass)\n",
    "print(a['1'])\n",
    "print(int())\n"
   ]
  },
  {
   "cell_type": "code",
   "execution_count": 2,
   "metadata": {},
   "outputs": [
    {
     "name": "stdout",
     "output_type": "stream",
     "text": [
      "File opened\n"
     ]
    }
   ],
   "source": [
    "\"\"\"  \n",
    "Here we test generator usage with contextlib.contextmanager\n",
    "\"\"\"\n",
    "\n",
    "import contextlib\n",
    "\n",
    "@contextlib.contextmanager\n",
    "def open_file(path, mode):\n",
    "    f = open(path, mode)\n",
    "    try:            #using return instead of yield will cause an error\n",
    "        yield f   # temporarily return the file object to the caller, will continue after the outer block is finished\n",
    "    finally:      # Ensure the file is always closed under all circumstances, even exceptions or errors occur\n",
    "        f.close()  # try-except will also work here, but need to specify the exception type\n",
    "\n",
    "@contextlib.contextmanager\n",
    "def open_file2(path, mode):\n",
    "    with open(path, mode) as f:\n",
    "        print(\"File opened\")\n",
    "        #return f  # must use yield here, otherwise the file will be closed before the caller can use it, causing an error\n",
    "        yield f\n",
    "# Usage\n",
    "with open_file2(\"example.txt\", \"w\") as file:\n",
    "    file.write(\"Hello, world!\")\n",
    "    # raise Exception(\"An error occurred while writing to the file\")\n",
    "# The file is automatically closed here."
   ]
  },
  {
   "cell_type": "code",
   "execution_count": 37,
   "metadata": {},
   "outputs": [
    {
     "name": "stdout",
     "output_type": "stream",
     "text": [
      "0\n",
      "[ 0  0  2  2  2  2  6  0  6  2  1  6 12 10 11]\n"
     ]
    }
   ],
   "source": [
    "\"\"\"  \n",
    "Here we test the output range of np.random.default_rng().integers()\n",
    "\"\"\"\n",
    "\n",
    "import numpy as np\n",
    "rng = np.random.default_rng(0)\n",
    "noops=0\n",
    "print(rng.integers(noops + 1))\n",
    "\n",
    "rng2=np.random.default_rng(42)  # if the seed is the same, the output will be the same\n",
    "                                # if the seed is None, the output will be different\n",
    "print(rng2.integers( range(1, noops + 16)))\n"
   ]
  },
  {
   "cell_type": "code",
   "execution_count": 4,
   "metadata": {},
   "outputs": [
    {
     "name": "stdout",
     "output_type": "stream",
     "text": [
      "True\n",
      "<unlocked _thread.lock object at 0x7feb50626300>\n",
      "False\n"
     ]
    }
   ],
   "source": [
    "\"\"\"  \n",
    "Here we test whether class-level attributes are shared among instances of the same class.\n",
    "and instance-level modification will not affect other instances\n",
    "\"\"\"\n",
    "from threading import Lock\n",
    "class MyClassLock:\n",
    "    lock=Lock()\n",
    "\n",
    "class1 = MyClassLock()\n",
    "class2 = MyClassLock()\n",
    "print(class1.lock is class2.lock)   # whether the same lock object\n",
    "class1.lock=1          # instance-level modification will not affect other instances\n",
    "print(class2.lock)\n",
    "print(class1.lock is class2.lock)"
   ]
  },
  {
   "cell_type": "code",
   "execution_count": 10,
   "metadata": {},
   "outputs": [
    {
     "name": "stdout",
     "output_type": "stream",
     "text": [
      "10\n",
      "10\n",
      "20\n",
      "10\n",
      "20\n",
      "30\n",
      "After deleting the instance-level attribute\n",
      "30\n"
     ]
    }
   ],
   "source": [
    "# Python first looks for the attribute in the instance's namespace. \n",
    "# If it doesn't find it there, Python then looks in the class namespace. \n",
    "\n",
    "class MyClass:\n",
    "    shared_var = 10\n",
    "\n",
    "instance1 = MyClass()\n",
    "instance2 = MyClass()\n",
    "\n",
    "# class-level attributes\n",
    "print(instance1.shared_var)  # Output: 10\n",
    "print(instance2.shared_var)  # Output: 10\n",
    "\n",
    "instance1.shared_var = 20\n",
    "# shared_var is now an instance-level attribute for instance1\n",
    "# the instance-level modification will not affect other instances\n",
    "print(instance1.shared_var)  # Output: 20\n",
    "print(instance2.shared_var)  # Output: 10\n",
    "\n",
    "MyClass.shared_var = 30\n",
    "# change of class-level will only explicitly affect the instances that don't have the same-named but instance-level attribute\n",
    "print(instance1.shared_var)  # Output: 20\n",
    "print(instance2.shared_var)  # Output: 30---only instance2 is affected\n",
    "\n",
    "print(\"After deleting the instance-level attribute\")\n",
    "del instance1.shared_var\n",
    "# delete the instance-level attribute, unshadow the class-level attribute\n",
    "print(instance1.shared_var)  # Output: 30---now it's the class-level attribute"
   ]
  },
  {
   "cell_type": "code",
   "execution_count": 12,
   "metadata": {},
   "outputs": [
    {
     "name": "stdout",
     "output_type": "stream",
     "text": [
      "1\n",
      "1\n"
     ]
    },
    {
     "ename": "AttributeError",
     "evalue": "'myclass' object has no attribute 'c'",
     "output_type": "error",
     "traceback": [
      "\u001b[0;31m---------------------------------------------------------------------------\u001b[0m",
      "\u001b[0;31mAttributeError\u001b[0m                            Traceback (most recent call last)",
      "Cell \u001b[0;32mIn[12], line 19\u001b[0m\n\u001b[1;32m     17\u001b[0m \u001b[38;5;28mprint\u001b[39m(obj\u001b[38;5;241m.\u001b[39ma)\n\u001b[1;32m     18\u001b[0m obj\u001b[38;5;241m.\u001b[39ma\u001b[38;5;241m=\u001b[39m\u001b[38;5;241m3\u001b[39m      \u001b[38;5;66;03m# can modify the attribute\u001b[39;00m\n\u001b[0;32m---> 19\u001b[0m \u001b[43mobj\u001b[49m\u001b[38;5;241;43m.\u001b[39;49m\u001b[43mc\u001b[49m\u001b[38;5;241m=\u001b[39m\u001b[38;5;241m4\u001b[39m      \u001b[38;5;66;03m# can't add new attribute\u001b[39;00m\n",
      "\u001b[0;31mAttributeError\u001b[0m: 'myclass' object has no attribute 'c'"
     ]
    }
   ],
   "source": [
    "\"\"\"  \n",
    "Here we test the usage of __slots__ to restrict the attributes of a class\n",
    "for memory saving and making the access faster\n",
    "\"\"\"\n",
    "\n",
    "class myclass:\n",
    "    __slots__ = ['a', 'b']\n",
    "    def __init__(self):\n",
    "        self.a = 1\n",
    "        self.b = 2\n",
    "        # self.c = 3 it will raise an error because c is not in __slots__\n",
    "    def __getitem__(self, key):\n",
    "        return getattr(self, key)\n",
    "\n",
    "obj = myclass()\n",
    "print(obj['a'])\n",
    "print(obj.a)\n",
    "obj.a=3      # can modify the attribute\n",
    "obj.c=4      # can't add new attribute\n"
   ]
  },
  {
   "cell_type": "code",
   "execution_count": 13,
   "metadata": {},
   "outputs": [
    {
     "name": "stdout",
     "output_type": "stream",
     "text": [
      "['/home/username/folder', 'file.txt']\n",
      "<re.Match object; span=(0, 3), match='abc'> None\n",
      "None <re.Match object; span=(0, 3), match='abc'>\n",
      "'a'x 'b'x 'c'\n",
      "['abc', '1=2=3']\n",
      "None\n"
     ]
    }
   ],
   "source": [
    "\"\"\"  \n",
    "Here we test some string operations\n",
    "\"\"\"\n",
    "# 1. rsplit() method\n",
    "somepath=\"/home/username/folder/file.txt\"\n",
    "ss = somepath.rsplit('/', 1)  # split the string from the right side, only once\n",
    "print(ss)\n",
    "\n",
    "# 2. match() and fullmatch() methods\n",
    "import re\n",
    "pattern = re.compile(\"abc\")\n",
    "result = pattern.match(\"abcdef\")\n",
    "# result is a match object since \"abcdef\" starts with \"abc\"\n",
    "result2 = pattern.match(\"defabc\")\n",
    "# result2 is None because \"defabc\" does not start with \"abc\"\n",
    "print(result, result2)\n",
    "\n",
    "pattern = re.compile(\"abc\")\n",
    "result = pattern.fullmatch(\"abcdef\")\n",
    "# result is None because the entire string \"abcdef\" does not conform to \"abc\"\n",
    "result2 = pattern.fullmatch(\"abc\")\n",
    "# result2 is a match object because the entire string \"abc\" perfectly matches \"abc\"\n",
    "print(result, result2)\n",
    "\n",
    "# 3. join() method\n",
    "vals=['a', 'b', 'c']\n",
    "vals = 'x '.join(f\"'{x}'\" for x in vals)\n",
    "print(vals)\n",
    "\n",
    "# 4. split() method with maxsplit\n",
    "sss=\"abc=1=2=3\"\n",
    "print(sss.split('=', 1))\n",
    "\n",
    "# 5. non-alphanumeric character check\n",
    "IS_PATTERN = re.compile(r'.*[^A-Za-z0-9_.-].*')\n",
    "name = \"abc\"\n",
    "print(IS_PATTERN.fullmatch(name))\n"
   ]
  },
  {
   "cell_type": "code",
   "execution_count": 14,
   "metadata": {},
   "outputs": [
    {
     "name": "stdout",
     "output_type": "stream",
     "text": [
      "Hello John, welcome to New York\n",
      "\\_\n"
     ]
    }
   ],
   "source": [
    "\"\"\"  \n",
    "Here we test the usage of the format() method \n",
    "for string formatting with placeholders\n",
    "\"\"\"\n",
    "\n",
    "string_withplace = \"Hello {name}, welcome to {place}\"\n",
    "print(string_withplace.format(name=\"John\", place=\"New York\"))\n",
    "\n",
    "# 2. Using raw strings\n",
    "print(r\"\\_\")"
   ]
  },
  {
   "cell_type": "code",
   "execution_count": 17,
   "metadata": {},
   "outputs": [
    {
     "name": "stdout",
     "output_type": "stream",
     "text": [
      "deque([3, 4, 5], maxlen=3)\n",
      "deque([5, 1, 2, 3, 4], maxlen=5)\n"
     ]
    }
   ],
   "source": [
    "\"\"\"  \n",
    "Here we test deque\n",
    "\"\"\"\n",
    "from collections import deque\n",
    "\n",
    "dq=deque([1,2,3,4,5],maxlen=3)\n",
    "print(dq)\n",
    "\n",
    "dq1=deque([1,2,3,4,5],maxlen=5)\n",
    "dq1.appendleft(dq1.pop()) \n",
    "print(dq1)"
   ]
  },
  {
   "cell_type": "code",
   "execution_count": 45,
   "metadata": {},
   "outputs": [
    {
     "name": "stdout",
     "output_type": "stream",
     "text": [
      "[6.66666667 3.33333333 6.        ]\n",
      "[9 8 9]\n"
     ]
    }
   ],
   "source": [
    "\"\"\"  \n",
    "Here we test the np.mean and np.amax on a deque\n",
    "\"\"\"\n",
    "\n",
    "buffers = deque(\n",
    "        [np.zeros((10, 10, 3), np.uint8)+i for i in range(5)],\n",
    "        maxlen=5)\n",
    "a=np.mean(buffers, axis=0)\n",
    "b=np.amax(buffers, axis=0)\n",
    "\n",
    "# It will output an array with the element-wise mean/maximum of the arrays in the deque\n",
    "buffers2=deque([np.array([9,2,3]), np.array([4,0,6]), np.array([7,8,9])], maxlen=3)\n",
    "print(np.mean(buffers2, axis=0))\n",
    "print(np.amax(buffers2, axis=0))\n",
    "\n",
    "\n"
   ]
  },
  {
   "cell_type": "code",
   "execution_count": 46,
   "metadata": {},
   "outputs": [
    {
     "data": {
      "text/plain": [
       "RandomState(MT19937) at 0x7FEAFD7CAC40"
      ]
     },
     "execution_count": 46,
     "metadata": {},
     "output_type": "execute_result"
    }
   ],
   "source": [
    "\"\"\"  \n",
    "Here we see what's the output of np.random.RandomState()\n",
    "\"\"\"\n",
    "np.random.RandomState()"
   ]
  },
  {
   "cell_type": "code",
   "execution_count": 64,
   "metadata": {},
   "outputs": [
    {
     "name": "stdout",
     "output_type": "stream",
     "text": [
      "False\n",
      "False\n",
      "False\n",
      "True\n",
      "False\n"
     ]
    }
   ],
   "source": [
    "\"\"\"  \n",
    "Here we test np.dtype() with object type and the result of is between objects\n",
    "\"\"\"\n",
    "\n",
    "import numpy as np\n",
    "\n",
    "class DataHandler:\n",
    "    def __init__(self, dtype):\n",
    "        self._dtype = np.dtype(dtype)\n",
    "        assert self._dtype is not object, self._dtype  \n",
    "        assert self._dtype.kind != 'O', self._dtype  # This will raise an error if the dtype is an instance\n",
    "        # if dtype is an instance, self._dtype is not object, but not the the same object as the built-in Python object type itself\n",
    "handler = DataHandler('float64')  # Works fine\n",
    "# handler = DataHandler(myclass)  # Raises AssertionError\n",
    "handler=  DataHandler(np.float64) # Works fine\n",
    "print(myclass is object)  # False, not the same object as the built-in Python object type itself\n",
    "print(obj is myclass)\n",
    "print(obj is object)\n",
    "print(myclass is myclass)\n",
    "\n",
    "class child(myclass):\n",
    "    pass\n",
    "print(child is myclass) # False, child is not the same class as parent"
   ]
  },
  {
   "cell_type": "code",
   "execution_count": 70,
   "metadata": {},
   "outputs": [
    {
     "data": {
      "text/plain": [
       "array([[1, 2, 3],\n",
       "       [1, 2, 3]])"
      ]
     },
     "execution_count": 70,
     "metadata": {},
     "output_type": "execute_result"
    }
   ],
   "source": [
    "\"\"\"  \n",
    "Here we test the broadcasting of np.array\n",
    "\"\"\"\n",
    "low=1\n",
    "shape=(2,3)\n",
    "np.broadcast_to(low, shape)\n",
    "\n",
    "low2=np.array([1,2,3])\n",
    "shape2=(2,5)\n",
    "# np.broadcast_to(low2, shape2)  # error because the shape is not compatible\n",
    "shape2=(2,6)\n",
    "# np.broadcast_to(low2, shape2)  # error because the shape is not compatible\n",
    "shape2=(2,3)\n",
    "np.broadcast_to(low2, shape2)  # works fine\n",
    "\n",
    "\n"
   ]
  },
  {
   "cell_type": "code",
   "execution_count": 77,
   "metadata": {},
   "outputs": [
    {
     "name": "stdout",
     "output_type": "stream",
     "text": [
      "True\n",
      "True\n",
      "True\n"
     ]
    }
   ],
   "source": [
    "\"\"\"  \n",
    "test dtype operations\n",
    "\"\"\"\n",
    "print(np.issubdtype(\"float\", np.floating))\n",
    "print(np.issubdtype(\"f\", np.floating))\n",
    "# print(np.issubdtype(\"flo\", np.floating)) # error\n",
    "print(np.issubdtype(np.float64, np.floating))"
   ]
  },
  {
   "cell_type": "code",
   "execution_count": 87,
   "metadata": {},
   "outputs": [
    {
     "name": "stdout",
     "output_type": "stream",
     "text": [
      "True\n",
      "True\n",
      "False\n",
      "True\n",
      "(1, 2, 3)\n",
      "(array([1, 2, 3]), array([4, 5, 6]))\n"
     ]
    }
   ],
   "source": [
    "\"\"\"  \n",
    "test all() in empty list/tuple and tuple conversion of np.array\n",
    "\"\"\"\n",
    "shape=()\n",
    "print(all(dim and dim > 0 for dim in shape)) # True\n",
    "\n",
    "shape=(1,2)\n",
    "print(all(dim and dim > 0 for dim in shape)) # True\n",
    "\n",
    "shape=(0,2)\n",
    "print(all(dim and dim > 0 for dim in shape)) # False\n",
    "\n",
    "xx=np.array([1,2,3])\n",
    "yy=np.array([[1,2,3],[4,5,6]])\n",
    "print(hasattr(shape, '__len__'))\n",
    "print(tuple(xx))\n",
    "print(tuple(yy))\n",
    "\n"
   ]
  }
 ],
 "metadata": {
  "kernelspec": {
   "display_name": "dreamnew",
   "language": "python",
   "name": "python3"
  },
  "language_info": {
   "codemirror_mode": {
    "name": "ipython",
    "version": 3
   },
   "file_extension": ".py",
   "mimetype": "text/x-python",
   "name": "python",
   "nbconvert_exporter": "python",
   "pygments_lexer": "ipython3",
   "version": "3.11.9"
  }
 },
 "nbformat": 4,
 "nbformat_minor": 2
}
